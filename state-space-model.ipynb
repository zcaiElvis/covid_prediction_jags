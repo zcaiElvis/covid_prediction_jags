{
 "cells": [
  {
   "cell_type": "code",
   "execution_count": 6,
   "id": "d1c4dd5a",
   "metadata": {},
   "outputs": [],
   "source": [
    "library(ggplot2)"
   ]
  },
  {
   "cell_type": "code",
   "execution_count": 17,
   "id": "1852ef57",
   "metadata": {},
   "outputs": [],
   "source": [
    "data <- read.csv(\"changes.csv\")\n",
    "mobility <- read.csv(\"2020_CA_Region_Mobility_Report.csv\")"
   ]
  },
  {
   "cell_type": "code",
   "execution_count": null,
   "id": "89e3a107",
   "metadata": {},
   "outputs": [],
   "source": []
  }
 ],
 "metadata": {
  "kernelspec": {
   "display_name": "R",
   "language": "R",
   "name": "ir"
  },
  "language_info": {
   "codemirror_mode": "r",
   "file_extension": ".r",
   "mimetype": "text/x-r-source",
   "name": "R",
   "pygments_lexer": "r",
   "version": "4.1.1"
  }
 },
 "nbformat": 4,
 "nbformat_minor": 5
}
